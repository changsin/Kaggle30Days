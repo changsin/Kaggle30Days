{
  "nbformat": 4,
  "nbformat_minor": 0,
  "metadata": {
    "colab": {
      "name": "python_syntax",
      "provenance": [],
      "collapsed_sections": [],
      "toc_visible": true,
      "include_colab_link": true
    },
    "kernelspec": {
      "display_name": "Python 3",
      "name": "python3"
    }
  },
  "cells": [
    {
      "cell_type": "markdown",
      "metadata": {
        "id": "view-in-github",
        "colab_type": "text"
      },
      "source": [
        "<a href=\"https://colab.research.google.com/github/changsin/Kaggle30Days/blob/main/02-07.python_syntax.ipynb\" target=\"_parent\"><img src=\"https://colab.research.google.com/assets/colab-badge.svg\" alt=\"Open In Colab\"/></a>"
      ]
    },
    {
      "cell_type": "markdown",
      "metadata": {
        "id": "l0Uzu3IA-3Ef"
      },
      "source": [
        "# Day 2 of Kaggle\n",
        "Overview of Python. Nothing new here but still learned something new."
      ]
    },
    {
      "cell_type": "markdown",
      "metadata": {
        "id": "9BkDdi12_CF9"
      },
      "source": [
        "## round's ndigits can be negative\n",
        "\n",
        "\n",
        "ndigits=-1 rounds to the nearest 10, ndigits=-2 rounds to the nearest 100 and so on. Where might this be useful? Suppose we're dealing with large numbers:\n",
        "\n",
        "The area of Finland is 338,424 km²\n",
        "The area of Greenland is 2,166,086 km²\n",
        "\n",
        "We probably don't care whether it's really 338,424, or 338,425, or 338,177. All those digits of accuracy are just distracting. We can chop them off by calling round() with ndigits=-3:\n",
        "\n",
        "The area of Finland is 338,000 km²\n",
        "The area of Greenland is 2,166,000 km²\n"
      ]
    },
    {
      "cell_type": "code",
      "metadata": {
        "id": "rlH9dL7X_Gsa",
        "colab": {
          "base_uri": "https://localhost:8080/"
        },
        "outputId": "ec24faf7-9298-4b03-fdbf-b733a5533e20"
      },
      "source": [
        "round(31213.14112, -2)"
      ],
      "execution_count": null,
      "outputs": [
        {
          "output_type": "execute_result",
          "data": {
            "text/plain": [
              "31200.0"
            ]
          },
          "metadata": {
            "tags": []
          },
          "execution_count": 2
        }
      ]
    },
    {
      "cell_type": "code",
      "metadata": {
        "id": "rPUo9paZ_Jk2",
        "colab": {
          "base_uri": "https://localhost:8080/"
        },
        "outputId": "92638d43-47d1-4dd6-d575-20f70273b2e6"
      },
      "source": [
        "round(9.899, 2)"
      ],
      "execution_count": null,
      "outputs": [
        {
          "output_type": "execute_result",
          "data": {
            "text/plain": [
              "9.9"
            ]
          },
          "metadata": {
            "tags": []
          },
          "execution_count": 4
        }
      ]
    },
    {
      "cell_type": "markdown",
      "metadata": {
        "id": "D22VZK2jBtYh"
      },
      "source": [
        "## operator precedence: 'and' is evaluated before 'or'"
      ]
    },
    {
      "cell_type": "code",
      "metadata": {
        "id": "MDZl6xIvATrd",
        "colab": {
          "base_uri": "https://localhost:8080/"
        },
        "outputId": "6101ddad-61a2-474a-9a95-553f94022caf"
      },
      "source": [
        "True or True and False"
      ],
      "execution_count": null,
      "outputs": [
        {
          "output_type": "execute_result",
          "data": {
            "text/plain": [
              "True"
            ]
          },
          "metadata": {
            "tags": []
          },
          "execution_count": 5
        }
      ]
    },
    {
      "cell_type": "markdown",
      "metadata": {
        "id": "1c-O-v9iCHeu"
      },
      "source": [
        "## all non-empty strings are True in boolean"
      ]
    },
    {
      "cell_type": "code",
      "metadata": {
        "id": "qDpGdg88BhJs",
        "colab": {
          "base_uri": "https://localhost:8080/"
        },
        "outputId": "ecac6453-a94a-4c50-ac0b-eacc9973e83a"
      },
      "source": [
        "bool(\"this\")"
      ],
      "execution_count": null,
      "outputs": [
        {
          "output_type": "execute_result",
          "data": {
            "text/plain": [
              "True"
            ]
          },
          "metadata": {
            "tags": []
          },
          "execution_count": 9
        }
      ]
    },
    {
      "cell_type": "code",
      "metadata": {
        "id": "tPmeUICDCMja",
        "colab": {
          "base_uri": "https://localhost:8080/"
        },
        "outputId": "9f7a7a50-79ab-416c-db54-df24258da66e"
      },
      "source": [
        "bool(\"\")"
      ],
      "execution_count": null,
      "outputs": [
        {
          "output_type": "execute_result",
          "data": {
            "text/plain": [
              "False"
            ]
          },
          "metadata": {
            "tags": []
          },
          "execution_count": 10
        }
      ]
    },
    {
      "cell_type": "markdown",
      "metadata": {
        "id": "NWujQtS62E3r"
      },
      "source": [
        "# List\n",
        "Day 5\n",
        "\n",
        "This problem was a little challenging because I did not read the instructions carefully. 'The fashionably late' does not include the last person and the middle half person is not considered fashionably late either.\n",
        "\n",
        "[link](https://www.kaggle.com/changsin/exercise-lists/edit)\n",
        "\n",
        "### Original problem\n",
        "We're using lists to record people who attended our party and what order they arrived in. For example, the following list represents a party with 7 guests, in which Adela showed up first and Ford was the last to arrive:\n",
        "\n",
        "party_attendees = ['Adela', 'Fleda', 'Owen', 'May', 'Mona', 'Gilbert', 'Ford']\n",
        "A guest is considered 'fashionably late' if they arrived after at least half of the party's guests. However, they must not be the very last guest (that's taking it too far). In the above example, Mona and Gilbert are the only guests who were fashionably late.\n",
        "\n",
        "Complete the function below which takes a list of party attendees as well as a person, and tells us whether that person is fashionably late."
      ]
    },
    {
      "cell_type": "code",
      "metadata": {
        "id": "XDZKRZl3Ch_3"
      },
      "source": [
        "def fashionably_late(arrivals, name):\n",
        "    \"\"\"Given an ordered list of arrivals to the party and a name, return whether the guest with that\n",
        "    name was fashionably late.\n",
        "    \"\"\"\n",
        "    if arrivals and name:\n",
        "        latter_half = arrivals[int(round(len(arrivals)/2)):-1]\n",
        "        print(latter_half)\n",
        "        return name in latter_half"
      ],
      "execution_count": null,
      "outputs": []
    },
    {
      "cell_type": "markdown",
      "metadata": {
        "id": "ok5D38952-Ii"
      },
      "source": [
        "The solution is the following. It uses list.index(item) to find the index of the specified item."
      ]
    },
    {
      "cell_type": "code",
      "metadata": {
        "id": "CrwUnkul27iZ"
      },
      "source": [
        "def fashionably_late_solution(arrivals, name):\n",
        "    order = arrivals.index(name)\n",
        "    return order >= len(arrivals) / 2 and order != len(arrivals) - 1"
      ],
      "execution_count": null,
      "outputs": []
    },
    {
      "cell_type": "markdown",
      "metadata": {
        "id": "1f0C1yCP4NgT"
      },
      "source": [
        "## List comprehension\n",
        "List comprehension is a very pythonian way of looping. You can also combine it with conditionals in multiple lines like the example below."
      ]
    },
    {
      "cell_type": "code",
      "metadata": {
        "id": "abHX3Egf4QQp"
      },
      "source": [
        "[\n",
        "    planet.upper() + '!' \n",
        "    for planet in planets \n",
        "    if len(planet) < 6\n",
        "]"
      ],
      "execution_count": null,
      "outputs": []
    },
    {
      "cell_type": "code",
      "metadata": {
        "id": "Kw1lbk82M3Ob",
        "colab": {
          "base_uri": "https://localhost:8080/"
        },
        "outputId": "d9d49c2d-1365-499c-9bdc-9e83fdc9c285"
      },
      "source": [
        "15 % 7"
      ],
      "execution_count": null,
      "outputs": [
        {
          "output_type": "execute_result",
          "data": {
            "text/plain": [
              "1"
            ]
          },
          "metadata": {
            "tags": []
          },
          "execution_count": 9
        }
      ]
    },
    {
      "cell_type": "markdown",
      "metadata": {
        "id": "ky7lYsLUYdXp"
      },
      "source": [
        "# Strings and Dictionaries\n",
        "The fact that this string was created using triple-quote syntax doesn't make any difference in terms of its content or length. This string is exactly the same as 'hey'"
      ]
    },
    {
      "cell_type": "code",
      "metadata": {
        "id": "VO5fu7zcM4cJ",
        "colab": {
          "base_uri": "https://localhost:8080/"
        },
        "outputId": "db7f2b5c-f82c-49d2-a2a9-dc5169a79fa0"
      },
      "source": [
        "d = \"\"\"hey\"\"\"\n",
        "length = 3\n",
        "len(d)"
      ],
      "execution_count": null,
      "outputs": [
        {
          "output_type": "execute_result",
          "data": {
            "text/plain": [
              "3"
            ]
          },
          "metadata": {
            "tags": []
          },
          "execution_count": 13
        }
      ]
    },
    {
      "cell_type": "markdown",
      "metadata": {
        "id": "zWsAzfUJZ7sW"
      },
      "source": [
        "- isdigit() is a string method"
      ]
    },
    {
      "cell_type": "code",
      "metadata": {
        "id": "8CL5qlZaYiqQ",
        "colab": {
          "base_uri": "https://localhost:8080/"
        },
        "outputId": "ce1f504c-f1ed-4fb8-d2ff-b3f55132e8bd"
      },
      "source": [
        "\"1234\".isdigit()"
      ],
      "execution_count": null,
      "outputs": [
        {
          "output_type": "execute_result",
          "data": {
            "text/plain": [
              "False"
            ]
          },
          "metadata": {
            "tags": []
          },
          "execution_count": 16
        }
      ]
    },
    {
      "cell_type": "code",
      "metadata": {
        "id": "QmBDd3yKaBCS",
        "colab": {
          "base_uri": "https://localhost:8080/"
        },
        "outputId": "4d310a3a-b163-4296-ee6c-677f57d7e6cb"
      },
      "source": [
        "\"123x\".isdigit()"
      ],
      "execution_count": null,
      "outputs": [
        {
          "output_type": "execute_result",
          "data": {
            "text/plain": [
              "False"
            ]
          },
          "metadata": {
            "tags": []
          },
          "execution_count": 15
        }
      ]
    },
    {
      "cell_type": "code",
      "metadata": {
        "id": "FAQAFGVXaDPN",
        "colab": {
          "base_uri": "https://localhost:8080/"
        },
        "outputId": "fc0df1da-abc8-4b78-c21a-8593ac63197f"
      },
      "source": [
        "\"123.0\".isdigit()"
      ],
      "execution_count": null,
      "outputs": [
        {
          "output_type": "execute_result",
          "data": {
            "text/plain": [
              "False"
            ]
          },
          "metadata": {
            "tags": []
          },
          "execution_count": 19
        }
      ]
    },
    {
      "cell_type": "markdown",
      "metadata": {
        "id": "W58oXNmZcTRw"
      },
      "source": [
        "- endswith() can take a tuple of suffixes"
      ]
    },
    {
      "cell_type": "code",
      "metadata": {
        "id": "Qhds4i9eaLBb",
        "colab": {
          "base_uri": "https://localhost:8080/"
        },
        "outputId": "97ffcdf6-ce6f-4ef8-dfa0-372f40bf72e6"
      },
      "source": [
        "\"End.\".endswith((\".\", \",\"))"
      ],
      "execution_count": null,
      "outputs": [
        {
          "output_type": "execute_result",
          "data": {
            "text/plain": [
              "True"
            ]
          },
          "metadata": {
            "tags": []
          },
          "execution_count": 22
        }
      ]
    },
    {
      "cell_type": "code",
      "metadata": {
        "id": "fkKu5V2Xb39B",
        "colab": {
          "base_uri": "https://localhost:8080/"
        },
        "outputId": "7b996753-6c72-45ab-b787-209d2d93de2d"
      },
      "source": [
        "\"End,\".endswith((\".\", \",\"))"
      ],
      "execution_count": null,
      "outputs": [
        {
          "output_type": "execute_result",
          "data": {
            "text/plain": [
              "False"
            ]
          },
          "metadata": {
            "tags": []
          },
          "execution_count": 30
        }
      ]
    },
    {
      "cell_type": "code",
      "metadata": {
        "id": "vFmOt1sdcRYy",
        "colab": {
          "base_uri": "https://localhost:8080/",
          "height": 35
        },
        "outputId": "4b3d6c0c-1409-44fc-bf05-9ed4f56ff6fd"
      },
      "source": [
        "\"TT\".lower()"
      ],
      "execution_count": null,
      "outputs": [
        {
          "output_type": "execute_result",
          "data": {
            "application/vnd.google.colaboratory.intrinsic+json": {
              "type": "string"
            },
            "text/plain": [
              "'tt'"
            ]
          },
          "metadata": {
            "tags": []
          },
          "execution_count": 29
        }
      ]
    },
    {
      "cell_type": "markdown",
      "metadata": {
        "id": "LKprJQ69fRoi"
      },
      "source": [
        "- word_search\n",
        "\n",
        "rstrip() is a handy method to strip multiple tokens from the end. It has the nice property of applying it only for relevant tokens."
      ]
    },
    {
      "cell_type": "code",
      "metadata": {
        "id": "0M2Q-k2Hfaqa"
      },
      "source": [
        "def word_search(doc_list, keyword):\n",
        "    \"\"\"\n",
        "    Takes a list of documents (each document is a string) and a keyword. \n",
        "    Returns list of the index values into the original list for all documents \n",
        "    containing the keyword.\n",
        "​\n",
        "    Example:\n",
        "    doc_list = [\"The Learn Python Challenge Casino.\", \"They bought a car\", \"Casinoville\"]\n",
        "    >>> word_search(doc_list, 'casino')\n",
        "    >>> [0]\n",
        "    \"\"\"\n",
        "    keyword_ids = []\n",
        "    \n",
        "    for id in range(len(doc_list)):\n",
        "        # complete string match\n",
        "        # case insensitive\n",
        "        # remove an ending period or comma\n",
        "        tokens = doc_list[id].split()\n",
        "        tokens = [token.lower() if not token.endswith((',', '.')) else token[:-1].lower() for token in tokens]\n",
        "#         print(tokens)\n",
        "        if keyword.lower() in tokens:\n",
        "            keyword_ids.append(id)\n",
        "    return keyword_ids"
      ],
      "execution_count": null,
      "outputs": []
    },
    {
      "cell_type": "code",
      "metadata": {
        "id": "fqbQ69-CdwNT"
      },
      "source": [
        "def word_search_solution(documents, keyword):\n",
        "    # list to hold the indices of matching documents\n",
        "    indices = [] \n",
        "    # Iterate through the indices (i) and elements (doc) of documents\n",
        "    for i, doc in enumerate(documents):\n",
        "        # Split the string doc into a list of words (according to whitespace)\n",
        "        tokens = doc.split()\n",
        "        # Make a transformed list where we 'normalize' each word to facilitate matching.\n",
        "        # Periods and commas are removed from the end of each word, and it's set to all lowercase.\n",
        "        normalized = [token.rstrip('.,').lower() for token in tokens]\n",
        "        # Is there a match? If so, update the list of matching indices.\n",
        "        if keyword.lower() in normalized:\n",
        "            indices.append(i)\n",
        "    return indices"
      ],
      "execution_count": null,
      "outputs": []
    },
    {
      "cell_type": "markdown",
      "metadata": {
        "id": "-vfC5IyQiLIh"
      },
      "source": [
        "# External libraries"
      ]
    },
    {
      "cell_type": "markdown",
      "metadata": {
        "id": "BM_27CeQrLun"
      },
      "source": [
        "numpy has its own operator overloading for indexing ndarrays "
      ]
    },
    {
      "cell_type": "code",
      "metadata": {
        "id": "w5TrHr5wiPAU"
      },
      "source": [
        "import numpy as np\n",
        "\n",
        "xlist = [[1, 2, 3], [2, 4, 6]]\n",
        "x = np.array(xlist)"
      ],
      "execution_count": null,
      "outputs": []
    },
    {
      "cell_type": "code",
      "metadata": {
        "id": "m6jcC7yQiRxO",
        "colab": {
          "base_uri": "https://localhost:8080/"
        },
        "outputId": "3de12d55-936f-4dcd-d15b-0e23ea048b64"
      },
      "source": [
        "x[1, -1]"
      ],
      "execution_count": null,
      "outputs": [
        {
          "output_type": "execute_result",
          "data": {
            "text/plain": [
              "6"
            ]
          },
          "metadata": {
            "tags": []
          },
          "execution_count": 33
        }
      ]
    },
    {
      "cell_type": "code",
      "metadata": {
        "id": "1YmonwphiW9Z",
        "colab": {
          "base_uri": "https://localhost:8080/",
          "height": 162
        },
        "outputId": "62bae2f7-0c70-4204-d98b-2769d9f27376"
      },
      "source": [
        "xlist[1, -1]"
      ],
      "execution_count": null,
      "outputs": [
        {
          "output_type": "error",
          "ename": "TypeError",
          "evalue": "ignored",
          "traceback": [
            "\u001b[0;31m---------------------------------------------------------------------------\u001b[0m",
            "\u001b[0;31mTypeError\u001b[0m                                 Traceback (most recent call last)",
            "\u001b[0;32m<ipython-input-34-d6d47493a7c4>\u001b[0m in \u001b[0;36m<module>\u001b[0;34m()\u001b[0m\n\u001b[0;32m----> 1\u001b[0;31m \u001b[0mxlist\u001b[0m\u001b[0;34m[\u001b[0m\u001b[0;36m1\u001b[0m\u001b[0;34m,\u001b[0m \u001b[0;34m-\u001b[0m\u001b[0;36m1\u001b[0m\u001b[0;34m]\u001b[0m\u001b[0;34m\u001b[0m\u001b[0;34m\u001b[0m\u001b[0m\n\u001b[0m",
            "\u001b[0;31mTypeError\u001b[0m: list indices must be integers or slices, not tuple"
          ]
        }
      ]
    },
    {
      "cell_type": "markdown",
      "metadata": {
        "id": "cb9zv1yrqoss"
      },
      "source": [
        "# External libraries"
      ]
    },
    {
      "cell_type": "markdown",
      "metadata": {
        "id": "YQGEJ-BAraxJ"
      },
      "source": [
        "- set_yticks() to get the ticks and they use set_yticklabels() "
      ]
    },
    {
      "cell_type": "code",
      "metadata": {
        "id": "mhDhmRfAiZYL"
      },
      "source": [
        "def prettify_graph(graph):\n",
        "    \"\"\"\n",
        "    Modify the given graph according to Jimmy's requests: add a title, make the y-axis\n",
        "    start at 0, label the y-axis. (And, if you're feeling ambitious, format the tick marks\n",
        "    as dollar amounts using the \"$\" symbol.)\n",
        "    \"\"\"\n",
        "\n",
        "    graph.set_title(\"Results of 500 slot machine pulls\")\n",
        "    # Make the y-axis begin at 0\n",
        "    graph.set_ylim(bottom=0)\n",
        "    # Label the y-axis\n",
        "    graph.set_ylabel(\"Balance\")\n",
        "    # Bonus: format the numbers on the y-axis as dollar amounts\n",
        "    # An array of the values displayed on the y-axis (150, 175, 200, etc.)\n",
        "    ticks = graph.get_yticks()\n",
        "    # Format those values into strings beginning with dollar sign\n",
        "    new_labels = ['${}'.format(int(amt)) for amt in ticks]\n",
        "    # Set the new labels\n",
        "    graph.set_yticklabels(new_labels)"
      ],
      "execution_count": null,
      "outputs": []
    },
    {
      "cell_type": "markdown",
      "metadata": {
        "id": "rhJEvp1K5lBV"
      },
      "source": [
        "# Blackjack game\n",
        "This problem was challenging for two reasons:\n",
        "\n",
        "1. Card A's value is either 11 or 1 depending on which one gives a better advantage for the player.\n",
        "2. A lot of conditions to consider when deciding who won.\n",
        "Here are all different test cases used by the testing program:\n",
        "\n",
        "```\n",
        "11 6\n",
        "9 28\n",
        "12 8\n",
        "14 41\n",
        "7 2\n",
        "10 33\n",
        "36 32\n",
        "26 36\n",
        "55 46\n",
        "26 38\n",
        "38 9\n",
        "36 21\n",
        "28 36\n",
        "23 40\n",
        "25 31\n",
        "36 10\n",
        "32 39\n",
        "10 37\n",
        "22 28\n",
        "15 2\n",
        "20 9\n",
        "24 16\n",
        "16 51\n",
        "19 14\n",
        "19 30\n",
        "8 12\n",
        "19 43\n",
        "46 28\n",
        "40 8\n",
        "3 20\n",
        "22 36\n",
        "11 32\n",
        "5 42\n",
        "10 27\n",
        "24 4\n",
        "18 25\n",
        "21 37\n",
        "23 8\n",
        "29 30\n",
        "16 37\n",
        "13 16\n",
        "10 32\n",
        "13 23\n",
        "22 6\n",
        "10 19\n",
        "16 28\n",
        "38 41\n",
        "18 6\n",
        "27 26\n",
        "7 24\n",
        "40 20\n",
        "11 10\n",
        "13 10\n",
        "36 7\n",
        "18 31\n",
        "29 13\n",
        "11 23\n",
        "2 26\n",
        "18 23\n",
        "15 11\n",
        "23 29\n",
        "31 35\n",
        "26 34\n",
        "35 30\n",
        "12 39\n",
        "28 26\n",
        "13 11\n",
        "17 49\n",
        "12 34\n",
        "37 27\n",
        "32 12\n",
        "47 45\n",
        "30 20\n",
        "9 53\n",
        "20 10\n",
        "11 19\n",
        "38 34\n",
        "24 35\n",
        "33 18\n",
        "36 2\n",
        "36 15\n",
        "17 20\n",
        "17 17\n",
        "23 3\n",
        "38 44\n",
        "28 18\n",
        "3 32\n",
        "36 38\n",
        "12 30\n",
        "54 36\n",
        "19 44\n",
        "33 43\n",
        "35 20\n",
        "34 18\n",
        "26 30\n",
        "28 31\n",
        "31 26\n",
        "13 36\n",
        "20 13\n",
        "3 56\n",
        "\n",
        "```"
      ]
    },
    {
      "cell_type": "code",
      "metadata": {
        "id": "VmmjBcWU5sUP"
      },
      "source": [
        "def blackjack_hand_greater_than(hand_1, hand_2):\n",
        "    \"\"\"\n",
        "    Return True if hand_1 beats hand_2, and False otherwise.\n",
        "    \n",
        "    In order for hand_1 to beat hand_2 the following must be true:\n",
        "    - The total of hand_1 must not exceed 21\n",
        "    - The total of hand_1 must exceed the total of hand_2 OR hand_2's total must exceed 21\n",
        "    \n",
        "    Hands are represented as a list of cards. Each card is represented by a string.\n",
        "    \n",
        "    When adding up a hand's total, cards with numbers count for that many points. Face\n",
        "    cards ('J', 'Q', and 'K') are worth 10 points. 'A' can count for 1 or 11.\n",
        "    \n",
        "    When determining a hand's total, you should try to count aces in the way that \n",
        "    maximizes the hand's total without going over 21. e.g. the total of ['A', 'A', '9'] is 21,\n",
        "    the total of ['A', 'A', '9', '3'] is 14.\n",
        "    \n",
        "    Examples:\n",
        "    >>> blackjack_hand_greater_than(['K'], ['3', '4'])\n",
        "    True\n",
        "    >>> blackjack_hand_greater_than(['K'], ['10'])\n",
        "    False\n",
        "    >>> blackjack_hand_greater_than(['K', 'K', '2'], ['3'])\n",
        "    False\n",
        "    \"\"\"\n",
        "    LIMIT = 21\n",
        "\n",
        "    def calc_hand(hand):\n",
        "        JQK = ['J', 'Q', 'K']\n",
        "        total = 0\n",
        "        \n",
        "        for card in hand:\n",
        "            if card in JQK:\n",
        "                total += 10\n",
        "            elif not card == 'A':\n",
        "                total += int(card)\n",
        "        \n",
        "        count_A = hand.count('A')\n",
        "        total += count_A\n",
        "\n",
        "        if total <= LIMIT:\n",
        "            for i in range(count_A):\n",
        "                if total + 10 < LIMIT:\n",
        "                    total += 10\n",
        "        \n",
        "        return total\n",
        "\n",
        "    points1 = calc_hand(hand_1)\n",
        "    points2 = calc_hand(hand_2)\n",
        "    print(points1, points2)\n",
        "    \n",
        "    if points1 <= LIMIT and points2 > LIMIT:\n",
        "        return True\n",
        "    return points1 <= LIMIT and (points1 > points2)"
      ],
      "execution_count": null,
      "outputs": []
    },
    {
      "cell_type": "code",
      "metadata": {
        "id": "QAt_z8_KLZHE"
      },
      "source": [
        "def hand_total(hand):\n",
        "    \"\"\"Helper function to calculate the total points of a blackjack hand.\n",
        "    \"\"\"\n",
        "    total = 0\n",
        "    # Count the number of aces and deal with how to apply them at the end.\n",
        "    aces = 0\n",
        "    for card in hand:\n",
        "        if card in ['J', 'Q', 'K']:\n",
        "            total += 10\n",
        "        elif card == 'A':\n",
        "            aces += 1\n",
        "        else:\n",
        "            # Convert number cards (e.g. '7') to ints\n",
        "            total += int(card)\n",
        "    # At this point, total is the sum of this hand's cards *not counting aces*.\n",
        "\n",
        "    # Add aces, counting them as 1 for now. This is the smallest total we can make from this hand\n",
        "    total += aces\n",
        "    # \"Upgrade\" aces from 1 to 11 as long as it helps us get closer to 21\n",
        "    # without busting\n",
        "    while total + 10 <= 21 and aces > 0:\n",
        "        # Upgrade an ace from 1 to 11\n",
        "        total += 10\n",
        "        aces -= 1\n",
        "    return total\n",
        "\n",
        "def blackjack_hand_greater_than_solution(hand_1, hand_2):\n",
        "    total_1 = hand_total(hand_1)\n",
        "    total_2 = hand_total(hand_2)\n",
        "    return total_1 <= 21 and (total_1 > total_2 or total_2 > 21)"
      ],
      "execution_count": null,
      "outputs": []
    }
  ]
}