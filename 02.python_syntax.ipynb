{
  "nbformat": 4,
  "nbformat_minor": 0,
  "metadata": {
    "colab": {
      "name": "Welcome To Colaboratory",
      "provenance": [],
      "collapsed_sections": [],
      "toc_visible": true,
      "include_colab_link": true
    },
    "kernelspec": {
      "display_name": "Python 3",
      "name": "python3"
    }
  },
  "cells": [
    {
      "cell_type": "markdown",
      "metadata": {
        "id": "view-in-github",
        "colab_type": "text"
      },
      "source": [
        "<a href=\"https://colab.research.google.com/github/changsin/Kaggle30Days/blob/main/02.python_syntax.ipynb\" target=\"_parent\"><img src=\"https://colab.research.google.com/assets/colab-badge.svg\" alt=\"Open In Colab\"/></a>"
      ]
    },
    {
      "cell_type": "markdown",
      "metadata": {
        "id": "l0Uzu3IA-3Ef"
      },
      "source": [
        "# Day 2 of Kaggle\n",
        "Overview of Python. Nothing new here but still learned something new."
      ]
    },
    {
      "cell_type": "markdown",
      "metadata": {
        "id": "9BkDdi12_CF9"
      },
      "source": [
        "## round's ndigits can be negative\n",
        "\n",
        "\n",
        "ndigits=-1 rounds to the nearest 10, ndigits=-2 rounds to the nearest 100 and so on. Where might this be useful? Suppose we're dealing with large numbers:\n",
        "\n",
        "The area of Finland is 338,424 km²\n",
        "The area of Greenland is 2,166,086 km²\n",
        "\n",
        "We probably don't care whether it's really 338,424, or 338,425, or 338,177. All those digits of accuracy are just distracting. We can chop them off by calling round() with ndigits=-3:\n",
        "\n",
        "The area of Finland is 338,000 km²\n",
        "The area of Greenland is 2,166,000 km²\n"
      ]
    },
    {
      "cell_type": "code",
      "metadata": {
        "id": "rlH9dL7X_Gsa",
        "outputId": "ec24faf7-9298-4b03-fdbf-b733a5533e20",
        "colab": {
          "base_uri": "https://localhost:8080/"
        }
      },
      "source": [
        "round(31213.14112, -2)"
      ],
      "execution_count": 2,
      "outputs": [
        {
          "output_type": "execute_result",
          "data": {
            "text/plain": [
              "31200.0"
            ]
          },
          "metadata": {
            "tags": []
          },
          "execution_count": 2
        }
      ]
    },
    {
      "cell_type": "code",
      "metadata": {
        "id": "rPUo9paZ_Jk2",
        "outputId": "92638d43-47d1-4dd6-d575-20f70273b2e6",
        "colab": {
          "base_uri": "https://localhost:8080/"
        }
      },
      "source": [
        "round(9.899, 2)"
      ],
      "execution_count": 4,
      "outputs": [
        {
          "output_type": "execute_result",
          "data": {
            "text/plain": [
              "9.9"
            ]
          },
          "metadata": {
            "tags": []
          },
          "execution_count": 4
        }
      ]
    },
    {
      "cell_type": "markdown",
      "metadata": {
        "id": "D22VZK2jBtYh"
      },
      "source": [
        "## operator precedence: and evaluatd before or"
      ]
    },
    {
      "cell_type": "code",
      "metadata": {
        "id": "MDZl6xIvATrd",
        "outputId": "6101ddad-61a2-474a-9a95-553f94022caf",
        "colab": {
          "base_uri": "https://localhost:8080/"
        }
      },
      "source": [
        "True or True and False"
      ],
      "execution_count": 5,
      "outputs": [
        {
          "output_type": "execute_result",
          "data": {
            "text/plain": [
              "True"
            ]
          },
          "metadata": {
            "tags": []
          },
          "execution_count": 5
        }
      ]
    },
    {
      "cell_type": "markdown",
      "metadata": {
        "id": "1c-O-v9iCHeu"
      },
      "source": [
        "## all non-empty strings are True in boolean"
      ]
    },
    {
      "cell_type": "code",
      "metadata": {
        "id": "qDpGdg88BhJs",
        "outputId": "ecac6453-a94a-4c50-ac0b-eacc9973e83a",
        "colab": {
          "base_uri": "https://localhost:8080/"
        }
      },
      "source": [
        "bool(\"this\")"
      ],
      "execution_count": 9,
      "outputs": [
        {
          "output_type": "execute_result",
          "data": {
            "text/plain": [
              "True"
            ]
          },
          "metadata": {
            "tags": []
          },
          "execution_count": 9
        }
      ]
    },
    {
      "cell_type": "code",
      "metadata": {
        "id": "tPmeUICDCMja",
        "outputId": "9f7a7a50-79ab-416c-db54-df24258da66e",
        "colab": {
          "base_uri": "https://localhost:8080/"
        }
      },
      "source": [
        "bool(\"\")"
      ],
      "execution_count": 10,
      "outputs": [
        {
          "output_type": "execute_result",
          "data": {
            "text/plain": [
              "False"
            ]
          },
          "metadata": {
            "tags": []
          },
          "execution_count": 10
        }
      ]
    },
    {
      "cell_type": "code",
      "metadata": {
        "id": "XDZKRZl3Ch_3"
      },
      "source": [
        ""
      ],
      "execution_count": null,
      "outputs": []
    }
  ]
}